{
 "cells": [
  {
   "cell_type": "code",
   "execution_count": 3,
   "metadata": {},
   "outputs": [],
   "source": [
    "import csv\n",
    "import os\n",
    "\n",
    "#Total # of votes [len(csv)]\n",
    "#Complete list of candidates who received votes [use if loop to print new lines based on len(candidates)]\n",
    "#Percentage of votes per candidate [votes per candidate/total votes]\n",
    "#Total # of votes per candidate [if vote == cand_name, then plus one for cand_name key pair]\n",
    "#Winner of Election, based on pop vote [for loop w/ candidate dictionary, max(candidate[1]), print(candidate[0])]\n",
    "\n",
    "# Election Results\n",
    "# -------------------------\n",
    "# Total Votes: 369711\n",
    "# -------------------------\n",
    "# Charles Casper Stockham: 23.049% (85213)\n",
    "# Diana DeGette: 73.812% (272892)\n",
    "# Raymon Anthony Doane: 3.139% (11606)\n",
    "# -------------------------\n",
    "# Winner: Diana DeGette\n",
    "# -------------------------"
   ]
  },
  {
   "cell_type": "code",
   "execution_count": 38,
   "metadata": {},
   "outputs": [
    {
     "name": "stdout",
     "output_type": "stream",
     "text": [
      "Election Results\n",
      "___________________\n",
      "Total Votes: 369711\n",
      "___________________\n",
      "Charles Casper Stockham: 23.049% (85213)\n",
      "Diana DeGette: 73.812% (272892)\n",
      "Raymon Anthony Doane: 3.139% (11606)\n",
      "___________________\n",
      "Winner: Diana DeGette\n"
     ]
    }
   ],
   "source": [
    "#access election_data.csv\n",
    "vote_data = os.path.join(\"Resources\",\"election_data.csv\")\n",
    "with open(vote_data) as election_file:\n",
    "    elctnrdr = csv.reader(election_file)\n",
    "    csv_header = next(elctnrdr)\n",
    "   #creation of usable lists\n",
    "    candidates = []\n",
    "    cand_votes = {}\n",
    "    cand_pct = {}\n",
    "\n",
    "    for row in elctnrdr:\n",
    "        vote_count = len(candidates) #store # in vote_count var\n",
    "        candidates.append(row[2])\n",
    "    for cand in candidates: \n",
    "        if cand not in cand_votes: #fills cand_votes dictionary w/ candidate names and default value of 0.\n",
    "            cand_votes[cand]= 0\n",
    "        if cand == cand in cand_votes: #tallies up votes based on how many candidate name shows up.\n",
    "            cand_votes[cand] += 1\n",
    "    for cand in cand_votes: #creates percentage of votes for candidate out of total votes.\n",
    "        cand_pct[cand] = format((cand_votes[cand]/len(candidates))*100,'.3f')\n",
    "\n",
    "max_votes = max(cand_votes, key=cand_votes.get) #stores winner (by most votes) in var max_votes\n",
    "\n",
    "#creates vars for easy printing\n",
    "header = f\"\"\"Election Results\n",
    "___________________\n",
    "Total Votes: {len(candidates)}\n",
    "___________________\"\"\"\n",
    "\n",
    "winner = f\"\"\"___________________\n",
    "Winner: {max_votes}\"\"\"\n",
    "\n",
    "#prints results in Terminal\n",
    "print(header)\n",
    "for cand in cand_votes.keys(): #prints results w/ name, percentage, and vote total\n",
    "    print(f'{cand}: {cand_pct[cand]}% ({cand_votes[cand]})')\n",
    "print(winner)\n",
    "\n",
    "#writes a text file and inputs results\n",
    "with open(os.path.join(\"analysis\",\"poll_results.txt\"),\"w\") as p:\n",
    "    p.write(f'{header}\\n')\n",
    "    for cand in cand_votes.keys():\n",
    "        p.write(f'{cand}: {cand_pct[cand]}% ({cand_votes[cand]})\\n')\n",
    "    p.write(winner)\n"
   ]
  }
 ],
 "metadata": {
  "kernelspec": {
   "display_name": "Python 3",
   "language": "python",
   "name": "python3"
  },
  "language_info": {
   "codemirror_mode": {
    "name": "ipython",
    "version": 3
   },
   "file_extension": ".py",
   "mimetype": "text/x-python",
   "name": "python",
   "nbconvert_exporter": "python",
   "pygments_lexer": "ipython3",
   "version": "3.10.11"
  },
  "orig_nbformat": 4
 },
 "nbformat": 4,
 "nbformat_minor": 2
}
