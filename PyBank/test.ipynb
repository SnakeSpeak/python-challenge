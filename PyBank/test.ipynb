{
 "cells": [
  {
   "cell_type": "code",
   "execution_count": 1,
   "metadata": {},
   "outputs": [
    {
     "name": "stdout",
     "output_type": "stream",
     "text": [
      "<_csv.reader object at 0x000001C401DEC460>\n",
      "['Date', 'Profit/Losses']\n",
      "Financial Analysis\n",
      "\n",
      "__________________________________\n",
      "\n",
      "Total Months: 86\n",
      "\n",
      "Total: $22564198\n",
      "Average Change: $-8311.11\n",
      "\n",
      "Greatest Increase in Profits: Aug-16 ($1862002)\n",
      "\n",
      "Greatest Decrease in Profits: Feb-14 ($-1825558)\n"
     ]
    }
   ],
   "source": [
    "import os\n",
    "import csv\n",
    "\n",
    "#opens budget_data.csv in Resources folder\n",
    "bgt_data = os.path.join(\"Resources\",\"budget_data.csv\")\n",
    "with open(bgt_data) as bgt_file:\n",
    "    bgtrdr = csv.reader(bgt_file)\n",
    "    print(bgtrdr) #reads file as object\n",
    "    csv_header= next(bgtrdr)\n",
    "    print(csv_header) #prints out headers\n",
    "    \n",
    "    #define variables for for loop\n",
    "    date = []\n",
    "    netamt = []\n",
    "    chng = []\n",
    "    prv_row = 0\n",
    "    \n",
    "    #Loop through all rows (besides header) \n",
    "    for row in bgtrdr: \n",
    "        date.append(row[0]) #add date to date list\n",
    "        netamt.append(int(row[1])) #add monthly amount to netamt list\n",
    "        chng.append(int(row[1]) - int(prv_row)) #calculates change btwn month and prev month, adds to chng list\n",
    "        prv_row = int(row[1]) #defines prv_row w/ previous monthly amount\n",
    "\n",
    "    max_chng = None #finds greatest increase in profits and saves date in max_date var\n",
    "    for i in range(len(chng)):\n",
    "        if chng[i] == max(chng):\n",
    "            max_chng = i\n",
    "            max_date = date[i]\n",
    "    \n",
    "    min_chng = None # finds greatest decrease in profits and saves date in min_date var\n",
    "    for x in range(len(chng)):\n",
    "        if chng[x] == min(chng):\n",
    "            min_chng = x\n",
    "            min_date = date[x]\n",
    "\n",
    "    \n",
    "\n",
    "\n",
    "        \n",
    "        \n",
    "chng.pop(0) #removes 1st entry from chng list, which is 706,444, for some reason\n",
    "\n",
    "\n",
    "avg = sum(chng)/(len(chng))\n",
    "formatted_avg = \"{:.2f}\".format(avg)\n",
    "\n",
    "\n",
    "print(\"Financial Analysis\\n\")\n",
    "print(\"__________________________________\\n\")\n",
    "print(f\"Total Months: {len(date)}\\n\")\n",
    "print(f\"Total: ${sum(netamt)}\\nAverage Change: ${formatted_avg}\\n\")\n",
    "print(f\"Greatest Increase in Profits: {max_date} (${max(chng)})\\n\")\n",
    "print(f\"Greatest Decrease in Profits: {min_date} (${min(chng)})\")\n",
    "\n"
   ]
  },
  {
   "cell_type": "code",
   "execution_count": 5,
   "metadata": {},
   "outputs": [],
   "source": [
    "with open(os.path.join(\"analysis\", \"final_analysis.txt\"),\"w\") as f:\n",
    "    f.write(\"Financial Analysis\\n\")\n",
    "    f.write(\"__________________________________\\n\")\n",
    "    f.write(f\"Total Months: {len(date)}\\n\")\n",
    "    f.write(f\"Total: ${sum(netamt)}\\nAverage Change: ${formatted_avg}\\n\")\n",
    "    f.write(f\"Greatest Increase in Profits: {max_date} (${max(chng)})\\n\")\n",
    "    f.write(f\"Greatest Decrease in Profits: {min_date} (${min(chng)})\")\n",
    "    "
   ]
  },
  {
   "cell_type": "code",
   "execution_count": null,
   "metadata": {},
   "outputs": [],
   "source": []
  }
 ],
 "metadata": {
  "kernelspec": {
   "display_name": "Python 3",
   "language": "python",
   "name": "python3"
  },
  "language_info": {
   "codemirror_mode": {
    "name": "ipython",
    "version": 3
   },
   "file_extension": ".py",
   "mimetype": "text/x-python",
   "name": "python",
   "nbconvert_exporter": "python",
   "pygments_lexer": "ipython3",
   "version": "3.10.11"
  },
  "orig_nbformat": 4
 },
 "nbformat": 4,
 "nbformat_minor": 2
}
